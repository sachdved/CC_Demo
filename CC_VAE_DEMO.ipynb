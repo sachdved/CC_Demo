{
 "cells": [
  {
   "cell_type": "code",
   "execution_count": 1,
   "id": "a53c93ad-c3d7-4b28-b0fb-154c38d8d5c0",
   "metadata": {},
   "outputs": [],
   "source": [
    "import numpy as np\n",
    "import pandas as pd\n",
    "import torch\n",
    "import matplotlib.pyplot as plt"
   ]
  },
  {
   "cell_type": "code",
   "execution_count": 2,
   "id": "66fb79df-c08b-4258-9db2-9820b7621bb4",
   "metadata": {},
   "outputs": [],
   "source": [
    "sh3_dataset = pd.read_csv('SH3_Full_Dataset_8_9_22.csv')"
   ]
  },
  {
   "cell_type": "code",
   "execution_count": 3,
   "id": "b442806b-72db-40f8-b4bd-30ae897a8e82",
   "metadata": {},
   "outputs": [],
   "source": [
    "class ProteinDataset(torch.utils.data.Dataset):\n",
    "    \"\"\"\n",
    "    A class to convert sequence data into numbers\n",
    "    \"\"\"\n",
    "    def __init__(\n",
    "        self,\n",
    "        seqs\n",
    "    ):\n",
    "        self.seqs = seqs\n",
    "        self.AMINO_ACIDS = \"ARNDCQEGHILKMFPSTWYV-\"\n",
    "        self.IDX_TO_AA = list(self.AMINO_ACIDS)\n",
    "        self.AA_TO_IDX = {aa : i for i, aa in enumerate(self.IDX_TO_AA)}\n",
    "\n",
    "    def __len__(self):\n",
    "        return len(self.seqs)\n",
    "        \n",
    "    def __getitem__(self, index):\n",
    "        X = dict()\n",
    "        Y = dict()\n",
    "\n",
    "        X['seq'] = self.one_hot_encode(self.seqs[index])\n",
    "        Y['seq'] = self.one_hot_encode(self.seqs[index])\n",
    "        return X, Y\n",
    "\n",
    "    def one_hot_encode(\n",
    "        self,\n",
    "        seq\n",
    "    ):\n",
    "        \"\"\"\n",
    "        generate one hot encoded sequences\n",
    "        \"\"\"\n",
    "        seq_vector = torch.zeros((len(seq), len(self.IDX_TO_AA)), dtype=torch.float32)\n",
    "        \n",
    "        for index, char in enumerate(seq):\n",
    "            seq_vector[index, self.AA_TO_IDX[char]] = 1.\n",
    "\n",
    "        return seq_vector"
   ]
  },
  {
   "cell_type": "code",
   "execution_count": 4,
   "id": "2eb6a58a-725f-4190-831f-6fe4bb3aa5a7",
   "metadata": {},
   "outputs": [],
   "source": [
    "seqs = np.asarray([ list(seq) for seq in sh3_dataset[sh3_dataset['Type'] == 'Naturals']['Sequences']])\n",
    "dataset = ProteinDataset(seqs)"
   ]
  },
  {
   "cell_type": "code",
   "execution_count": 5,
   "id": "1640b46d-fa82-4e64-91d1-daed57b5a0d9",
   "metadata": {},
   "outputs": [
    {
     "data": {
      "text/plain": [
       "array(['V', 'F', 'L', 'G', 'V', 'Y', 'K', 'A', 'L', 'Y', 'D', 'Y', 'E',\n",
       "       'P', 'Q', 'T', 'T', 'E', 'E', 'L', 'A', 'I', 'R', 'E', 'D', 'E',\n",
       "       'L', 'L', 'Y', 'L', 'L', 'E', 'K', 'S', 'D', 'E', 'W', 'W', 'T',\n",
       "       'V', 'K', 'K', 'D', 'E', 'P', 'V', 'G', 'L', 'V', 'P', 'S', 'N',\n",
       "       'Y', 'V', 'E', 'Q', 'A', 'P', 'V'], dtype='<U1')"
      ]
     },
     "execution_count": 5,
     "metadata": {},
     "output_type": "execute_result"
    }
   ],
   "source": [
    "seqs[0]"
   ]
  },
  {
   "cell_type": "code",
   "execution_count": 6,
   "id": "ac099b87-eb19-4845-a7ae-0fbdfbeaa099",
   "metadata": {},
   "outputs": [
    {
     "data": {
      "text/plain": [
       "({'seq': tensor([[0., 0., 0.,  ..., 0., 1., 0.],\n",
       "          [0., 0., 0.,  ..., 0., 0., 0.],\n",
       "          [0., 0., 0.,  ..., 0., 0., 0.],\n",
       "          ...,\n",
       "          [1., 0., 0.,  ..., 0., 0., 0.],\n",
       "          [0., 0., 0.,  ..., 0., 0., 0.],\n",
       "          [0., 0., 0.,  ..., 0., 1., 0.]])},\n",
       " {'seq': tensor([[0., 0., 0.,  ..., 0., 1., 0.],\n",
       "          [0., 0., 0.,  ..., 0., 0., 0.],\n",
       "          [0., 0., 0.,  ..., 0., 0., 0.],\n",
       "          ...,\n",
       "          [1., 0., 0.,  ..., 0., 0., 0.],\n",
       "          [0., 0., 0.,  ..., 0., 0., 0.],\n",
       "          [0., 0., 0.,  ..., 0., 1., 0.]])})"
      ]
     },
     "execution_count": 6,
     "metadata": {},
     "output_type": "execute_result"
    }
   ],
   "source": [
    "dataset[0]"
   ]
  },
  {
   "cell_type": "code",
   "execution_count": 172,
   "id": "471010f8-61ca-4ab7-8a89-e390fe5a3de2",
   "metadata": {},
   "outputs": [],
   "source": [
    "class Encoder(torch.nn.Module):\n",
    "    def __init__(\n",
    "        self\n",
    "    ):\n",
    "        super().__init__()\n",
    "        self.linear_1 = torch.nn.Linear(59*21, 200)\n",
    "        self.activation_1 = torch.nn.ReLU()\n",
    "        self.linear_2 = torch.nn.Linear(200, 200)\n",
    "        self.activation_2 = torch.nn.ReLU()\n",
    "        self.linear_3_z_mu = torch.nn.Linear(200, 3)\n",
    "        self.linear_3_log_var = torch.nn.Linear(200, 3)\n",
    "\n",
    "    def forward(\n",
    "        self, \n",
    "        X\n",
    "    ):\n",
    "        h1 = self.linear_1(X)\n",
    "        h1 = self.activation_1(h1)\n",
    "        h2 = self.linear_2(h1)\n",
    "        h2 = self.activation_2(h2)\n",
    "        z_mu = self.linear_3_z_mu(h2)\n",
    "        log_var = self.linear_3_log_var(h2)\n",
    "\n",
    "        return z_mu, log_var\n",
    "\n",
    "\n",
    "class Decoder(torch.nn.Module):\n",
    "    def __init__(\n",
    "        self\n",
    "    ):\n",
    "        super().__init__()\n",
    "        self.linear_1 = torch.nn.Linear(3, 200)\n",
    "        self.activation_1 = torch.nn.ReLU()\n",
    "        self.linear_2 = torch.nn.Linear(200, 200)\n",
    "        self.activation_2 = torch.nn.ReLU()\n",
    "        self.linear_3 = torch.nn.Linear(200, 59*21)\n",
    "\n",
    "    def forward(\n",
    "        self,\n",
    "        z\n",
    "    ):\n",
    "        h3 = self.linear_1(z)\n",
    "        h3 = self.activation_1(h3)\n",
    "        h4 = self.linear_2(h3)\n",
    "        h4 = self.activation_2(h4)\n",
    "        h5 = self.linear_3(h4)\n",
    "        h5 = h5.view([h5.shape[0], 59, 21])\n",
    "        h5 = torch.nn.Softmax(dim=-1)(h5)\n",
    "        return h5\n",
    "        \n",
    "        \n",
    "\n",
    "class VAE(torch.nn.Module):\n",
    "    def __init__(\n",
    "        self,\n",
    "    ):\n",
    "        super().__init__()\n",
    "        self.encoder = Encoder()\n",
    "        self.decoder = Decoder()\n",
    "\n",
    "\n",
    "    def reparametrization(self, mu, log_var):\n",
    "        z = torch.randn_like(log_var)*torch.exp(log_var/2.) + mu\n",
    "        return z\n",
    "    \n",
    "    def forward(\n",
    "        self, \n",
    "        X\n",
    "    ):\n",
    "        X = X.view(X.shape[0], 59*21)\n",
    "        z_mu, z_log_var = self.encoder(X)\n",
    "\n",
    "        z = self.reparametrization(z_mu, z_log_var)\n",
    "\n",
    "        Xhat = self.decoder(z)\n",
    "\n",
    "        return z_mu, z_log_var, z, Xhat\n",
    "\n",
    "    def recon_loss(\n",
    "        self,\n",
    "        Y, \n",
    "        Xhat,\n",
    "        eps = 1e-10\n",
    "    ):\n",
    "        \"\"\"\n",
    "        Computing a loss for\n",
    "        how far off the true label of the data point you are\n",
    "        \"\"\"\n",
    "        loss = (Y * torch.log(Xhat + eps) + (1.-Y) * torch.log(1.-Xhat + eps))\n",
    "        return -torch.mean(loss)\n",
    "        \n",
    "    def elbo_loss(self, z_mu, z_log_var):\n",
    "        loss = -0.5 * torch.mean(1 + z_log_var - z_mu**2 - torch.exp(z_log_var))\n",
    "        return loss"
   ]
  },
  {
   "cell_type": "code",
   "execution_count": 173,
   "id": "be0c8f3e-af49-4b6c-b9d0-b92e94f185f1",
   "metadata": {},
   "outputs": [],
   "source": [
    "example_vae = VAE()"
   ]
  },
  {
   "cell_type": "code",
   "execution_count": 174,
   "id": "3f8ecaff-79d7-4d6a-ab1b-251fc9cbf7e2",
   "metadata": {},
   "outputs": [
    {
     "data": {
      "text/plain": [
       "VAE(\n",
       "  (encoder): Encoder(\n",
       "    (linear_1): Linear(in_features=1239, out_features=200, bias=True)\n",
       "    (activation_1): ReLU()\n",
       "    (linear_2): Linear(in_features=200, out_features=200, bias=True)\n",
       "    (activation_2): ReLU()\n",
       "    (linear_3_z_mu): Linear(in_features=200, out_features=3, bias=True)\n",
       "    (linear_3_log_var): Linear(in_features=200, out_features=3, bias=True)\n",
       "  )\n",
       "  (decoder): Decoder(\n",
       "    (linear_1): Linear(in_features=3, out_features=200, bias=True)\n",
       "    (activation_1): ReLU()\n",
       "    (linear_2): Linear(in_features=200, out_features=200, bias=True)\n",
       "    (activation_2): ReLU()\n",
       "    (linear_3): Linear(in_features=200, out_features=1239, bias=True)\n",
       "  )\n",
       ")"
      ]
     },
     "execution_count": 174,
     "metadata": {},
     "output_type": "execute_result"
    }
   ],
   "source": [
    "example_vae"
   ]
  },
  {
   "cell_type": "code",
   "execution_count": 175,
   "id": "9e51f633-7a97-496a-9c71-f2ce4e0450cc",
   "metadata": {
    "scrolled": true
   },
   "outputs": [],
   "source": [
    "datagenerator = torch.utils.data.DataLoader(dataset, batch_size=32)\n",
    "for batch in datagenerator:\n",
    "    X, Y = batch\n"
   ]
  },
  {
   "cell_type": "code",
   "execution_count": 176,
   "id": "3d840a0b-5629-4978-94e3-15c0ffc02f27",
   "metadata": {},
   "outputs": [],
   "source": [
    "z_mu, z_log_var, z, Xhat = example_vae(X['seq'])"
   ]
  },
  {
   "cell_type": "code",
   "execution_count": 177,
   "id": "602e1492-f946-40d1-a703-4f7ffdc314bc",
   "metadata": {},
   "outputs": [
    {
     "data": {
      "text/plain": [
       "tensor([[-0.0135, -0.0931, -0.0210],\n",
       "        [ 0.0055, -0.0892, -0.0481],\n",
       "        [-0.0066, -0.0745, -0.0342],\n",
       "        [-0.0249, -0.0764, -0.0511],\n",
       "        [ 0.0006, -0.0668, -0.0268],\n",
       "        [-0.0076, -0.0886, -0.0030],\n",
       "        [-0.0073, -0.0941, -0.0258],\n",
       "        [-0.0093, -0.0810, -0.0327],\n",
       "        [-0.0025, -0.1010, -0.0217],\n",
       "        [ 0.0144, -0.0812, -0.0342],\n",
       "        [-0.0108, -0.0923, -0.0086],\n",
       "        [ 0.0141, -0.0669, -0.0373],\n",
       "        [-0.0228, -0.0754, -0.0420],\n",
       "        [ 0.0032, -0.0894, -0.0347],\n",
       "        [-0.0029, -0.0634, -0.0073],\n",
       "        [-0.0140, -0.0836, -0.0218],\n",
       "        [ 0.0175, -0.0997, -0.0292],\n",
       "        [-0.0125, -0.0800, -0.0320],\n",
       "        [-0.0329, -0.0730, -0.0382],\n",
       "        [ 0.0102, -0.0696, -0.0067],\n",
       "        [-0.0177, -0.0830, -0.0225],\n",
       "        [-0.0247, -0.0747, -0.0241],\n",
       "        [-0.0190, -0.0647, -0.0027],\n",
       "        [-0.0310, -0.0768, -0.0121],\n",
       "        [-0.0002, -0.0812, -0.0088]], grad_fn=<AddmmBackward0>)"
      ]
     },
     "execution_count": 177,
     "metadata": {},
     "output_type": "execute_result"
    }
   ],
   "source": [
    "z_mu"
   ]
  },
  {
   "cell_type": "code",
   "execution_count": 185,
   "id": "462af795-1a6c-4c5c-89e1-0a77a7617b44",
   "metadata": {},
   "outputs": [
    {
     "data": {
      "image/png": "[encoded data removed]",
      "text/plain": [
       "<Figure size 640x480 with 1 Axes>"
      ]
     },
     "metadata": {},
     "output_type": "display_data"
    }
   ],
   "source": [
    "import matplotlib.pyplot as plt\n",
    "example_VAE = VAE()\n",
    "for batch in datagenerator:\n",
    "    X, Y = batch\n",
    "    z_mu, z_log_var, z, Xhat = example_VAE(X['seq'])\n",
    "    \n",
    "    plt.scatter(z[:,0].detach().numpy(), z[:,1].detach().numpy(), color='black', alpha=0.01)"
   ]
  },
  {
   "cell_type": "code",
   "execution_count": 186,
   "id": "764f2936-5506-4f43-bd2e-c9cd56cf99b7",
   "metadata": {},
   "outputs": [
    {
     "data": {
      "text/plain": [
       "7865"
      ]
     },
     "execution_count": 186,
     "metadata": {},
     "output_type": "execute_result"
    }
   ],
   "source": [
    "len(seqs)"
   ]
  },
  {
   "cell_type": "code",
   "execution_count": 187,
   "id": "d6f18f81-216e-499e-b308-493fd95e3b73",
   "metadata": {},
   "outputs": [
    {
     "data": {
      "text/plain": [
       "Decoder(\n",
       "  (linear_1): Linear(in_features=3, out_features=200, bias=True)\n",
       "  (activation_1): ReLU()\n",
       "  (linear_2): Linear(in_features=200, out_features=200, bias=True)\n",
       "  (activation_2): ReLU()\n",
       "  (linear_3): Linear(in_features=200, out_features=1239, bias=True)\n",
       ")"
      ]
     },
     "execution_count": 187,
     "metadata": {},
     "output_type": "execute_result"
    }
   ],
   "source": [
    "example_vae.decoder"
   ]
  },
  {
   "cell_type": "code",
   "execution_count": 212,
   "id": "1850f6bc-1195-43f1-8b50-f9215880f590",
   "metadata": {},
   "outputs": [],
   "source": [
    "example_vae = VAE()"
   ]
  },
  {
   "cell_type": "code",
   "execution_count": 213,
   "id": "393aeb0c-dc2f-457c-8f10-56be9825f872",
   "metadata": {},
   "outputs": [],
   "source": [
    "z_mu, z_log_var, z, Xhat = example_vae(X['seq'])"
   ]
  },
  {
   "cell_type": "code",
   "execution_count": 214,
   "id": "b427a750-46f3-41bd-8b73-37ae162cef55",
   "metadata": {},
   "outputs": [
    {
     "data": {
      "text/plain": [
       "tensor(0.0007, grad_fn=<MulBackward0>)"
      ]
     },
     "execution_count": 214,
     "metadata": {},
     "output_type": "execute_result"
    }
   ],
   "source": [
    "example_vae.elbo_loss(z_mu, z_log_var)"
   ]
  },
  {
   "cell_type": "code",
   "execution_count": 215,
   "id": "cf0622e0-b4cd-4ff4-9d9e-8647a8456066",
   "metadata": {
    "scrolled": true
   },
   "outputs": [
    {
     "data": {
      "text/plain": [
       "tensor([[ 0.0400,  0.0007, -0.0539],\n",
       "        [ 0.0465,  0.0098, -0.0303],\n",
       "        [ 0.0503, -0.0010, -0.0392],\n",
       "        [ 0.0268,  0.0022, -0.0121],\n",
       "        [ 0.0591, -0.0037, -0.0282],\n",
       "        [ 0.0457, -0.0355, -0.0289],\n",
       "        [ 0.0396, -0.0096, -0.0092],\n",
       "        [ 0.0213,  0.0209, -0.0365],\n",
       "        [ 0.0471,  0.0175, -0.0433],\n",
       "        [ 0.0391, -0.0036, -0.0367],\n",
       "        [ 0.0516, -0.0144, -0.0396],\n",
       "        [ 0.0594, -0.0177, -0.0453],\n",
       "        [ 0.0394, -0.0074, -0.0317],\n",
       "        [ 0.0408, -0.0020, -0.0354],\n",
       "        [ 0.0481, -0.0044, -0.0309],\n",
       "        [ 0.0279,  0.0124, -0.0384],\n",
       "        [ 0.0166, -0.0119, -0.0162],\n",
       "        [ 0.0368, -0.0048, -0.0277],\n",
       "        [ 0.0626, -0.0048, -0.0463],\n",
       "        [ 0.0610,  0.0128, -0.0519],\n",
       "        [ 0.0165,  0.0111, -0.0258],\n",
       "        [ 0.0346, -0.0084, -0.0595],\n",
       "        [ 0.0548, -0.0242, -0.0502],\n",
       "        [ 0.0343,  0.0013, -0.0183],\n",
       "        [ 0.0511,  0.0255, -0.0394]], grad_fn=<AddmmBackward0>)"
      ]
     },
     "execution_count": 215,
     "metadata": {},
     "output_type": "execute_result"
    }
   ],
   "source": [
    "z_log_var"
   ]
  },
  {
   "cell_type": "code",
   "execution_count": 216,
   "id": "4dc59f82-c553-4a05-b1e5-ffc0da8dfc92",
   "metadata": {},
   "outputs": [
    {
     "data": {
      "text/plain": [
       "1239"
      ]
     },
     "execution_count": 216,
     "metadata": {},
     "output_type": "execute_result"
    }
   ],
   "source": [
    "59*21"
   ]
  },
  {
   "cell_type": "code",
   "execution_count": 217,
   "id": "42b47e1e-d00e-4ed0-bda2-0d6d83c62832",
   "metadata": {},
   "outputs": [],
   "source": [
    "test = X['seq'].reshape([X['seq'].shape[0],-1])"
   ]
  },
  {
   "cell_type": "code",
   "execution_count": 218,
   "id": "c23d7a6e-0f38-4e2a-be18-ec4ac00ab3c7",
   "metadata": {},
   "outputs": [
    {
     "data": {
      "text/plain": [
       "torch.Size([25, 1239])"
      ]
     },
     "execution_count": 218,
     "metadata": {},
     "output_type": "execute_result"
    }
   ],
   "source": [
    "test.shape"
   ]
  },
  {
   "cell_type": "code",
   "execution_count": 220,
   "id": "7271775b-89be-4ca7-b470-b8aa08b2b4d5",
   "metadata": {},
   "outputs": [
    {
     "data": {
      "text/plain": [
       "torch.Size([25, 1239])"
      ]
     },
     "execution_count": 220,
     "metadata": {},
     "output_type": "execute_result"
    }
   ],
   "source": [
    "test.shape"
   ]
  },
  {
   "cell_type": "code",
   "execution_count": 250,
   "id": "6fe5623d-b8de-4a06-b99a-6eedb028e132",
   "metadata": {},
   "outputs": [
    {
     "name": "stdout",
     "output_type": "stream",
     "text": [
      "33790.90406036377\n",
      "106.3904462569626\n",
      "30815.54483795166\n",
      "385.5485910177231\n",
      "28697.18212890625\n",
      "546.7586294412613\n",
      "27171.048263549805\n",
      "631.8425092697144\n",
      "26100.512580871582\n",
      "667.8068192005157\n",
      "25385.562496185303\n",
      "691.6650992631912\n",
      "24837.75405883789\n",
      "707.0642284154892\n",
      "24400.87917327881\n",
      "718.3092572689056\n",
      "24018.1534576416\n",
      "730.6868337392807\n",
      "23669.144939422607\n",
      "739.3417282104492\n",
      "23387.34157180786\n",
      "747.296019911766\n",
      "23162.985591888428\n",
      "751.623973608017\n",
      "22971.828315734863\n",
      "753.9849143028259\n",
      "22803.09884262085\n",
      "760.858537197113\n",
      "22649.484115600586\n",
      "769.6815984249115\n",
      "22465.244396209717\n",
      "771.0675466060638\n",
      "22285.801177978516\n",
      "778.4644403457642\n",
      "22126.299606323242\n",
      "782.3374886512756\n",
      "21977.81432723999\n",
      "781.8576881885529\n",
      "21828.662364959717\n",
      "788.8953075408936\n",
      "21733.512283325195\n",
      "787.2061455249786\n",
      "21652.732276916504\n",
      "797.6994721889496\n",
      "21525.99192428589\n",
      "797.5996663570404\n",
      "21427.649379730225\n",
      "800.79443359375\n",
      "21311.64910507202\n",
      "804.6049003601074\n",
      "21247.495429992676\n",
      "809.6191875934601\n",
      "21186.65431213379\n",
      "816.0280833244324\n",
      "21129.94171524048\n",
      "818.630044221878\n",
      "21053.98038482666\n",
      "821.6451179981232\n",
      "20985.854358673096\n",
      "819.0010752677917\n",
      "20939.656562805176\n",
      "822.3425261974335\n",
      "20886.807945251465\n",
      "824.9998822212219\n",
      "20786.94638442993\n",
      "828.3349001407623\n",
      "20710.362144470215\n",
      "833.4900596141815\n",
      "20599.90196609497\n",
      "836.7059304714203\n",
      "20530.43602371216\n",
      "840.5186302661896\n",
      "20431.18458366394\n",
      "844.009740114212\n",
      "20350.854053497314\n",
      "844.9468326568604\n",
      "20296.59587287903\n",
      "848.0649490356445\n",
      "20233.846670150757\n",
      "849.6991353034973\n",
      "20178.241188049316\n",
      "851.6369829177856\n",
      "20169.21148109436\n",
      "853.014582157135\n",
      "20119.783557891846\n",
      "857.0669312477112\n",
      "20074.43264389038\n",
      "859.2446115016937\n",
      "20023.869485855103\n",
      "858.7143068313599\n",
      "19985.60988998413\n",
      "856.7671730518341\n",
      "19967.99574661255\n",
      "859.4462025165558\n",
      "19914.03455734253\n",
      "865.3748481273651\n",
      "19929.44207382202\n",
      "872.5734457969666\n",
      "19866.406770706177\n",
      "867.4014434814453\n",
      "19850.743312835693\n",
      "869.3906238079071\n",
      "19767.773262023926\n",
      "874.2321269512177\n",
      "19677.84974861145\n",
      "872.8383002281189\n",
      "19622.892095565796\n",
      "876.4900045394897\n",
      "19573.9070186615\n",
      "879.8831834793091\n",
      "19528.11261177063\n",
      "881.3053226470947\n",
      "19472.95816230774\n",
      "884.9883682727814\n",
      "19462.76330947876\n",
      "882.7164640426636\n",
      "19423.29153251648\n",
      "886.8055174350739\n",
      "19366.744327545166\n",
      "888.819500207901\n",
      "19325.145753860474\n",
      "891.4251041412354\n",
      "19267.242525100708\n",
      "895.9213671684265\n",
      "19255.20892715454\n",
      "889.2656874656677\n",
      "19217.31195449829\n",
      "890.729485988617\n",
      "19186.99364089966\n",
      "892.8935132026672\n",
      "19149.498697280884\n",
      "891.5353982448578\n",
      "19142.470016479492\n",
      "897.2552711963654\n",
      "19110.339469909668\n",
      "896.4778945446014\n",
      "19115.86037826538\n",
      "899.3026149272919\n",
      "19096.322813034058\n",
      "899.8526623249054\n",
      "19046.912143707275\n",
      "903.4646325111389\n",
      "19015.181524276733\n",
      "904.8855767250061\n",
      "18966.469388961792\n",
      "901.8374764919281\n",
      "18923.984748840332\n",
      "905.8894250392914\n",
      "18900.477283477783\n",
      "907.4222056865692\n",
      "18879.93286705017\n",
      "904.7073771953583\n",
      "18855.84442138672\n",
      "906.309417963028\n"
     ]
    },
    {
     "ename": "KeyboardInterrupt",
     "evalue": "",
     "output_type": "error",
     "traceback": [
      "\u001b[0;31m---------------------------------------------------------------------------\u001b[0m",
      "\u001b[0;31mKeyboardInterrupt\u001b[0m                         Traceback (most recent call last)",
      "Cell \u001b[0;32mIn[250], line 23\u001b[0m\n\u001b[1;32m     20\u001b[0m total_loss \u001b[38;5;241m=\u001b[39m recon_loss \u001b[38;5;241m+\u001b[39m elbo_loss\n\u001b[1;32m     22\u001b[0m total_loss\u001b[38;5;241m.\u001b[39mbackward()\n\u001b[0;32m---> 23\u001b[0m \u001b[43moptim\u001b[49m\u001b[38;5;241;43m.\u001b[39;49m\u001b[43mstep\u001b[49m\u001b[43m(\u001b[49m\u001b[43m)\u001b[49m\n\u001b[1;32m     24\u001b[0m total_recon_loss \u001b[38;5;241m+\u001b[39m\u001b[38;5;241m=\u001b[39m recon_loss\u001b[38;5;241m.\u001b[39mitem()\n\u001b[1;32m     25\u001b[0m total_elbo_loss \u001b[38;5;241m+\u001b[39m\u001b[38;5;241m=\u001b[39m elbo_loss\u001b[38;5;241m.\u001b[39mitem()\n",
      "File \u001b[0;32m~/miniforge3/envs/cc_demo/lib/python3.11/site-packages/torch/optim/optimizer.py:391\u001b[0m, in \u001b[0;36mOptimizer.profile_hook_step.<locals>.wrapper\u001b[0;34m(*args, **kwargs)\u001b[0m\n\u001b[1;32m    386\u001b[0m         \u001b[38;5;28;01melse\u001b[39;00m:\n\u001b[1;32m    387\u001b[0m             \u001b[38;5;28;01mraise\u001b[39;00m \u001b[38;5;167;01mRuntimeError\u001b[39;00m(\n\u001b[1;32m    388\u001b[0m                 \u001b[38;5;124mf\u001b[39m\u001b[38;5;124m\"\u001b[39m\u001b[38;5;132;01m{\u001b[39;00mfunc\u001b[38;5;132;01m}\u001b[39;00m\u001b[38;5;124m must return None or a tuple of (new_args, new_kwargs), but got \u001b[39m\u001b[38;5;132;01m{\u001b[39;00mresult\u001b[38;5;132;01m}\u001b[39;00m\u001b[38;5;124m.\u001b[39m\u001b[38;5;124m\"\u001b[39m\n\u001b[1;32m    389\u001b[0m             )\n\u001b[0;32m--> 391\u001b[0m out \u001b[38;5;241m=\u001b[39m \u001b[43mfunc\u001b[49m\u001b[43m(\u001b[49m\u001b[38;5;241;43m*\u001b[39;49m\u001b[43margs\u001b[49m\u001b[43m,\u001b[49m\u001b[43m \u001b[49m\u001b[38;5;241;43m*\u001b[39;49m\u001b[38;5;241;43m*\u001b[39;49m\u001b[43mkwargs\u001b[49m\u001b[43m)\u001b[49m\n\u001b[1;32m    392\u001b[0m \u001b[38;5;28mself\u001b[39m\u001b[38;5;241m.\u001b[39m_optimizer_step_code()\n\u001b[1;32m    394\u001b[0m \u001b[38;5;66;03m# call optimizer step post hooks\u001b[39;00m\n",
      "File \u001b[0;32m~/miniforge3/envs/cc_demo/lib/python3.11/site-packages/torch/optim/optimizer.py:76\u001b[0m, in \u001b[0;36m_use_grad_for_differentiable.<locals>._use_grad\u001b[0;34m(self, *args, **kwargs)\u001b[0m\n\u001b[1;32m     74\u001b[0m     torch\u001b[38;5;241m.\u001b[39mset_grad_enabled(\u001b[38;5;28mself\u001b[39m\u001b[38;5;241m.\u001b[39mdefaults[\u001b[38;5;124m'\u001b[39m\u001b[38;5;124mdifferentiable\u001b[39m\u001b[38;5;124m'\u001b[39m])\n\u001b[1;32m     75\u001b[0m     torch\u001b[38;5;241m.\u001b[39m_dynamo\u001b[38;5;241m.\u001b[39mgraph_break()\n\u001b[0;32m---> 76\u001b[0m     ret \u001b[38;5;241m=\u001b[39m \u001b[43mfunc\u001b[49m\u001b[43m(\u001b[49m\u001b[38;5;28;43mself\u001b[39;49m\u001b[43m,\u001b[49m\u001b[43m \u001b[49m\u001b[38;5;241;43m*\u001b[39;49m\u001b[43margs\u001b[49m\u001b[43m,\u001b[49m\u001b[43m \u001b[49m\u001b[38;5;241;43m*\u001b[39;49m\u001b[38;5;241;43m*\u001b[39;49m\u001b[43mkwargs\u001b[49m\u001b[43m)\u001b[49m\n\u001b[1;32m     77\u001b[0m \u001b[38;5;28;01mfinally\u001b[39;00m:\n\u001b[1;32m     78\u001b[0m     torch\u001b[38;5;241m.\u001b[39m_dynamo\u001b[38;5;241m.\u001b[39mgraph_break()\n",
      "File \u001b[0;32m~/miniforge3/envs/cc_demo/lib/python3.11/site-packages/torch/optim/adam.py:168\u001b[0m, in \u001b[0;36mAdam.step\u001b[0;34m(self, closure)\u001b[0m\n\u001b[1;32m    157\u001b[0m     beta1, beta2 \u001b[38;5;241m=\u001b[39m group[\u001b[38;5;124m'\u001b[39m\u001b[38;5;124mbetas\u001b[39m\u001b[38;5;124m'\u001b[39m]\n\u001b[1;32m    159\u001b[0m     has_complex \u001b[38;5;241m=\u001b[39m \u001b[38;5;28mself\u001b[39m\u001b[38;5;241m.\u001b[39m_init_group(\n\u001b[1;32m    160\u001b[0m         group,\n\u001b[1;32m    161\u001b[0m         params_with_grad,\n\u001b[0;32m   (...)\u001b[0m\n\u001b[1;32m    165\u001b[0m         max_exp_avg_sqs,\n\u001b[1;32m    166\u001b[0m         state_steps)\n\u001b[0;32m--> 168\u001b[0m     \u001b[43madam\u001b[49m\u001b[43m(\u001b[49m\n\u001b[1;32m    169\u001b[0m \u001b[43m        \u001b[49m\u001b[43mparams_with_grad\u001b[49m\u001b[43m,\u001b[49m\n\u001b[1;32m    170\u001b[0m \u001b[43m        \u001b[49m\u001b[43mgrads\u001b[49m\u001b[43m,\u001b[49m\n\u001b[1;32m    171\u001b[0m \u001b[43m        \u001b[49m\u001b[43mexp_avgs\u001b[49m\u001b[43m,\u001b[49m\n\u001b[1;32m    172\u001b[0m \u001b[43m        \u001b[49m\u001b[43mexp_avg_sqs\u001b[49m\u001b[43m,\u001b[49m\n\u001b[1;32m    173\u001b[0m \u001b[43m        \u001b[49m\u001b[43mmax_exp_avg_sqs\u001b[49m\u001b[43m,\u001b[49m\n\u001b[1;32m    174\u001b[0m \u001b[43m        \u001b[49m\u001b[43mstate_steps\u001b[49m\u001b[43m,\u001b[49m\n\u001b[1;32m    175\u001b[0m \u001b[43m        \u001b[49m\u001b[43mamsgrad\u001b[49m\u001b[38;5;241;43m=\u001b[39;49m\u001b[43mgroup\u001b[49m\u001b[43m[\u001b[49m\u001b[38;5;124;43m'\u001b[39;49m\u001b[38;5;124;43mamsgrad\u001b[39;49m\u001b[38;5;124;43m'\u001b[39;49m\u001b[43m]\u001b[49m\u001b[43m,\u001b[49m\n\u001b[1;32m    176\u001b[0m \u001b[43m        \u001b[49m\u001b[43mhas_complex\u001b[49m\u001b[38;5;241;43m=\u001b[39;49m\u001b[43mhas_complex\u001b[49m\u001b[43m,\u001b[49m\n\u001b[1;32m    177\u001b[0m \u001b[43m        \u001b[49m\u001b[43mbeta1\u001b[49m\u001b[38;5;241;43m=\u001b[39;49m\u001b[43mbeta1\u001b[49m\u001b[43m,\u001b[49m\n\u001b[1;32m    178\u001b[0m \u001b[43m        \u001b[49m\u001b[43mbeta2\u001b[49m\u001b[38;5;241;43m=\u001b[39;49m\u001b[43mbeta2\u001b[49m\u001b[43m,\u001b[49m\n\u001b[1;32m    179\u001b[0m \u001b[43m        \u001b[49m\u001b[43mlr\u001b[49m\u001b[38;5;241;43m=\u001b[39;49m\u001b[43mgroup\u001b[49m\u001b[43m[\u001b[49m\u001b[38;5;124;43m'\u001b[39;49m\u001b[38;5;124;43mlr\u001b[39;49m\u001b[38;5;124;43m'\u001b[39;49m\u001b[43m]\u001b[49m\u001b[43m,\u001b[49m\n\u001b[1;32m    180\u001b[0m \u001b[43m        \u001b[49m\u001b[43mweight_decay\u001b[49m\u001b[38;5;241;43m=\u001b[39;49m\u001b[43mgroup\u001b[49m\u001b[43m[\u001b[49m\u001b[38;5;124;43m'\u001b[39;49m\u001b[38;5;124;43mweight_decay\u001b[39;49m\u001b[38;5;124;43m'\u001b[39;49m\u001b[43m]\u001b[49m\u001b[43m,\u001b[49m\n\u001b[1;32m    181\u001b[0m \u001b[43m        \u001b[49m\u001b[43meps\u001b[49m\u001b[38;5;241;43m=\u001b[39;49m\u001b[43mgroup\u001b[49m\u001b[43m[\u001b[49m\u001b[38;5;124;43m'\u001b[39;49m\u001b[38;5;124;43meps\u001b[39;49m\u001b[38;5;124;43m'\u001b[39;49m\u001b[43m]\u001b[49m\u001b[43m,\u001b[49m\n\u001b[1;32m    182\u001b[0m \u001b[43m        \u001b[49m\u001b[43mmaximize\u001b[49m\u001b[38;5;241;43m=\u001b[39;49m\u001b[43mgroup\u001b[49m\u001b[43m[\u001b[49m\u001b[38;5;124;43m'\u001b[39;49m\u001b[38;5;124;43mmaximize\u001b[39;49m\u001b[38;5;124;43m'\u001b[39;49m\u001b[43m]\u001b[49m\u001b[43m,\u001b[49m\n\u001b[1;32m    183\u001b[0m \u001b[43m        \u001b[49m\u001b[43mforeach\u001b[49m\u001b[38;5;241;43m=\u001b[39;49m\u001b[43mgroup\u001b[49m\u001b[43m[\u001b[49m\u001b[38;5;124;43m'\u001b[39;49m\u001b[38;5;124;43mforeach\u001b[39;49m\u001b[38;5;124;43m'\u001b[39;49m\u001b[43m]\u001b[49m\u001b[43m,\u001b[49m\n\u001b[1;32m    184\u001b[0m \u001b[43m        \u001b[49m\u001b[43mcapturable\u001b[49m\u001b[38;5;241;43m=\u001b[39;49m\u001b[43mgroup\u001b[49m\u001b[43m[\u001b[49m\u001b[38;5;124;43m'\u001b[39;49m\u001b[38;5;124;43mcapturable\u001b[39;49m\u001b[38;5;124;43m'\u001b[39;49m\u001b[43m]\u001b[49m\u001b[43m,\u001b[49m\n\u001b[1;32m    185\u001b[0m \u001b[43m        \u001b[49m\u001b[43mdifferentiable\u001b[49m\u001b[38;5;241;43m=\u001b[39;49m\u001b[43mgroup\u001b[49m\u001b[43m[\u001b[49m\u001b[38;5;124;43m'\u001b[39;49m\u001b[38;5;124;43mdifferentiable\u001b[39;49m\u001b[38;5;124;43m'\u001b[39;49m\u001b[43m]\u001b[49m\u001b[43m,\u001b[49m\n\u001b[1;32m    186\u001b[0m \u001b[43m        \u001b[49m\u001b[43mfused\u001b[49m\u001b[38;5;241;43m=\u001b[39;49m\u001b[43mgroup\u001b[49m\u001b[43m[\u001b[49m\u001b[38;5;124;43m'\u001b[39;49m\u001b[38;5;124;43mfused\u001b[39;49m\u001b[38;5;124;43m'\u001b[39;49m\u001b[43m]\u001b[49m\u001b[43m,\u001b[49m\n\u001b[1;32m    187\u001b[0m \u001b[43m        \u001b[49m\u001b[43mgrad_scale\u001b[49m\u001b[38;5;241;43m=\u001b[39;49m\u001b[38;5;28;43mgetattr\u001b[39;49m\u001b[43m(\u001b[49m\u001b[38;5;28;43mself\u001b[39;49m\u001b[43m,\u001b[49m\u001b[43m \u001b[49m\u001b[38;5;124;43m\"\u001b[39;49m\u001b[38;5;124;43mgrad_scale\u001b[39;49m\u001b[38;5;124;43m\"\u001b[39;49m\u001b[43m,\u001b[49m\u001b[43m \u001b[49m\u001b[38;5;28;43;01mNone\u001b[39;49;00m\u001b[43m)\u001b[49m\u001b[43m,\u001b[49m\n\u001b[1;32m    188\u001b[0m \u001b[43m        \u001b[49m\u001b[43mfound_inf\u001b[49m\u001b[38;5;241;43m=\u001b[39;49m\u001b[38;5;28;43mgetattr\u001b[39;49m\u001b[43m(\u001b[49m\u001b[38;5;28;43mself\u001b[39;49m\u001b[43m,\u001b[49m\u001b[43m \u001b[49m\u001b[38;5;124;43m\"\u001b[39;49m\u001b[38;5;124;43mfound_inf\u001b[39;49m\u001b[38;5;124;43m\"\u001b[39;49m\u001b[43m,\u001b[49m\u001b[43m \u001b[49m\u001b[38;5;28;43;01mNone\u001b[39;49;00m\u001b[43m)\u001b[49m\u001b[43m,\u001b[49m\n\u001b[1;32m    189\u001b[0m \u001b[43m    \u001b[49m\u001b[43m)\u001b[49m\n\u001b[1;32m    191\u001b[0m \u001b[38;5;28;01mreturn\u001b[39;00m loss\n",
      "File \u001b[0;32m~/miniforge3/envs/cc_demo/lib/python3.11/site-packages/torch/optim/adam.py:318\u001b[0m, in \u001b[0;36madam\u001b[0;34m(params, grads, exp_avgs, exp_avg_sqs, max_exp_avg_sqs, state_steps, foreach, capturable, differentiable, fused, grad_scale, found_inf, has_complex, amsgrad, beta1, beta2, lr, weight_decay, eps, maximize)\u001b[0m\n\u001b[1;32m    315\u001b[0m \u001b[38;5;28;01melse\u001b[39;00m:\n\u001b[1;32m    316\u001b[0m     func \u001b[38;5;241m=\u001b[39m _single_tensor_adam\n\u001b[0;32m--> 318\u001b[0m \u001b[43mfunc\u001b[49m\u001b[43m(\u001b[49m\u001b[43mparams\u001b[49m\u001b[43m,\u001b[49m\n\u001b[1;32m    319\u001b[0m \u001b[43m     \u001b[49m\u001b[43mgrads\u001b[49m\u001b[43m,\u001b[49m\n\u001b[1;32m    320\u001b[0m \u001b[43m     \u001b[49m\u001b[43mexp_avgs\u001b[49m\u001b[43m,\u001b[49m\n\u001b[1;32m    321\u001b[0m \u001b[43m     \u001b[49m\u001b[43mexp_avg_sqs\u001b[49m\u001b[43m,\u001b[49m\n\u001b[1;32m    322\u001b[0m \u001b[43m     \u001b[49m\u001b[43mmax_exp_avg_sqs\u001b[49m\u001b[43m,\u001b[49m\n\u001b[1;32m    323\u001b[0m \u001b[43m     \u001b[49m\u001b[43mstate_steps\u001b[49m\u001b[43m,\u001b[49m\n\u001b[1;32m    324\u001b[0m \u001b[43m     \u001b[49m\u001b[43mamsgrad\u001b[49m\u001b[38;5;241;43m=\u001b[39;49m\u001b[43mamsgrad\u001b[49m\u001b[43m,\u001b[49m\n\u001b[1;32m    325\u001b[0m \u001b[43m     \u001b[49m\u001b[43mhas_complex\u001b[49m\u001b[38;5;241;43m=\u001b[39;49m\u001b[43mhas_complex\u001b[49m\u001b[43m,\u001b[49m\n\u001b[1;32m    326\u001b[0m \u001b[43m     \u001b[49m\u001b[43mbeta1\u001b[49m\u001b[38;5;241;43m=\u001b[39;49m\u001b[43mbeta1\u001b[49m\u001b[43m,\u001b[49m\n\u001b[1;32m    327\u001b[0m \u001b[43m     \u001b[49m\u001b[43mbeta2\u001b[49m\u001b[38;5;241;43m=\u001b[39;49m\u001b[43mbeta2\u001b[49m\u001b[43m,\u001b[49m\n\u001b[1;32m    328\u001b[0m \u001b[43m     \u001b[49m\u001b[43mlr\u001b[49m\u001b[38;5;241;43m=\u001b[39;49m\u001b[43mlr\u001b[49m\u001b[43m,\u001b[49m\n\u001b[1;32m    329\u001b[0m \u001b[43m     \u001b[49m\u001b[43mweight_decay\u001b[49m\u001b[38;5;241;43m=\u001b[39;49m\u001b[43mweight_decay\u001b[49m\u001b[43m,\u001b[49m\n\u001b[1;32m    330\u001b[0m \u001b[43m     \u001b[49m\u001b[43meps\u001b[49m\u001b[38;5;241;43m=\u001b[39;49m\u001b[43meps\u001b[49m\u001b[43m,\u001b[49m\n\u001b[1;32m    331\u001b[0m \u001b[43m     \u001b[49m\u001b[43mmaximize\u001b[49m\u001b[38;5;241;43m=\u001b[39;49m\u001b[43mmaximize\u001b[49m\u001b[43m,\u001b[49m\n\u001b[1;32m    332\u001b[0m \u001b[43m     \u001b[49m\u001b[43mcapturable\u001b[49m\u001b[38;5;241;43m=\u001b[39;49m\u001b[43mcapturable\u001b[49m\u001b[43m,\u001b[49m\n\u001b[1;32m    333\u001b[0m \u001b[43m     \u001b[49m\u001b[43mdifferentiable\u001b[49m\u001b[38;5;241;43m=\u001b[39;49m\u001b[43mdifferentiable\u001b[49m\u001b[43m,\u001b[49m\n\u001b[1;32m    334\u001b[0m \u001b[43m     \u001b[49m\u001b[43mgrad_scale\u001b[49m\u001b[38;5;241;43m=\u001b[39;49m\u001b[43mgrad_scale\u001b[49m\u001b[43m,\u001b[49m\n\u001b[1;32m    335\u001b[0m \u001b[43m     \u001b[49m\u001b[43mfound_inf\u001b[49m\u001b[38;5;241;43m=\u001b[39;49m\u001b[43mfound_inf\u001b[49m\u001b[43m)\u001b[49m\n",
      "File \u001b[0;32m~/miniforge3/envs/cc_demo/lib/python3.11/site-packages/torch/optim/adam.py:393\u001b[0m, in \u001b[0;36m_single_tensor_adam\u001b[0;34m(params, grads, exp_avgs, exp_avg_sqs, max_exp_avg_sqs, state_steps, grad_scale, found_inf, amsgrad, has_complex, beta1, beta2, lr, weight_decay, eps, maximize, capturable, differentiable)\u001b[0m\n\u001b[1;32m    390\u001b[0m     param \u001b[38;5;241m=\u001b[39m torch\u001b[38;5;241m.\u001b[39mview_as_real(param)\n\u001b[1;32m    392\u001b[0m \u001b[38;5;66;03m# Decay the first and second moment running average coefficient\u001b[39;00m\n\u001b[0;32m--> 393\u001b[0m \u001b[43mexp_avg\u001b[49m\u001b[38;5;241;43m.\u001b[39;49m\u001b[43mlerp_\u001b[49m\u001b[43m(\u001b[49m\u001b[43mgrad\u001b[49m\u001b[43m,\u001b[49m\u001b[43m \u001b[49m\u001b[38;5;241;43m1\u001b[39;49m\u001b[43m \u001b[49m\u001b[38;5;241;43m-\u001b[39;49m\u001b[43m \u001b[49m\u001b[43mbeta1\u001b[49m\u001b[43m)\u001b[49m\n\u001b[1;32m    394\u001b[0m exp_avg_sq\u001b[38;5;241m.\u001b[39mmul_(beta2)\u001b[38;5;241m.\u001b[39maddcmul_(grad, grad\u001b[38;5;241m.\u001b[39mconj(), value\u001b[38;5;241m=\u001b[39m\u001b[38;5;241m1\u001b[39m \u001b[38;5;241m-\u001b[39m beta2)\n\u001b[1;32m    396\u001b[0m \u001b[38;5;28;01mif\u001b[39;00m capturable \u001b[38;5;129;01mor\u001b[39;00m differentiable:\n",
      "\u001b[0;31mKeyboardInterrupt\u001b[0m: "
     ]
    }
   ],
   "source": [
    "example_vae = VAE()\n",
    "\n",
    "epochs = 100\n",
    "\n",
    "recon_loss_tracker = []\n",
    "elbo_loss_tracker = []\n",
    "optim = torch.optim.Adam(example_vae.parameters(), lr = 1e-3)\n",
    "\n",
    "for epoch in range(epochs):\n",
    "    total_recon_loss = 0\n",
    "    total_elbo_loss = 0\n",
    "    for batch in datagenerator:\n",
    "        optim.zero_grad()\n",
    "        X, Y = batch\n",
    "        test = X['seq'].reshape([X['seq'].shape[0],-1])\n",
    "        z_mu, z_log_var, z, Xhat = example_vae(X['seq'])\n",
    "\n",
    "        recon_loss = 1000*example_vae.recon_loss(Y['seq'], Xhat)\n",
    "        elbo_loss = example_vae.elbo_loss(z_mu, z_log_var)\n",
    "        total_loss = recon_loss + elbo_loss\n",
    "\n",
    "        total_loss.backward()\n",
    "        optim.step()\n",
    "        total_recon_loss += recon_loss.item()\n",
    "        total_elbo_loss += elbo_loss.item()\n",
    "        \n",
    "    recon_loss_tracker.append(total_recon_loss)\n",
    "    print(total_recon_loss)\n",
    "    print(total_elbo_loss)\n",
    "    "
   ]
  },
  {
   "cell_type": "code",
   "execution_count": 242,
   "id": "e0130e1a-9e3b-4d25-b198-5a4f3e9fc5ad",
   "metadata": {},
   "outputs": [
    {
     "data": {
      "text/plain": [
       "tensor(128.3549, grad_fn=<MulBackward0>)"
      ]
     },
     "execution_count": 242,
     "metadata": {},
     "output_type": "execute_result"
    }
   ],
   "source": [
    "recon_loss"
   ]
  },
  {
   "cell_type": "code",
   "execution_count": 263,
   "id": "e7ea06d9-00f3-4a3a-af73-1052595201b3",
   "metadata": {},
   "outputs": [],
   "source": [
    "z_mu, z_log_var, z, Xhat = example_vae(X['seq'])"
   ]
  },
  {
   "cell_type": "code",
   "execution_count": 267,
   "id": "49924c53-3a84-44be-b28c-d32b23502483",
   "metadata": {},
   "outputs": [
    {
     "data": {
      "text/plain": [
       "(tensor([11]),)"
      ]
     },
     "execution_count": 267,
     "metadata": {},
     "output_type": "execute_result"
    }
   ],
   "source": [
    "torch.where(Xhat[0][1]==max(Xhat[0][1]))"
   ]
  },
  {
   "cell_type": "code",
   "execution_count": 265,
   "id": "1f390ea2-143f-4e76-ae2a-0c98894fe86b",
   "metadata": {},
   "outputs": [
    {
     "data": {
      "text/plain": [
       "array([0.02, 0.  , 0.01, 0.03, 0.01, 0.03, 0.  , 0.  , 0.  , 0.05, 0.  ,\n",
       "       0.01, 0.  , 0.13, 0.64, 0.05, 0.  , 0.  , 0.  , 0.02, 0.  ],\n",
       "      dtype=float32)"
      ]
     },
     "execution_count": 265,
     "metadata": {},
     "output_type": "execute_result"
    }
   ],
   "source": [
    "np.round(Xhat[0][3].detach().numpy(),2)"
   ]
  },
  {
   "cell_type": "code",
   "execution_count": 268,
   "id": "7688f8cf-a561-419d-8b50-42ba1c3cf359",
   "metadata": {},
   "outputs": [
    {
     "data": {
      "text/plain": [
       "(array([11]),)"
      ]
     },
     "execution_count": 268,
     "metadata": {},
     "output_type": "execute_result"
    }
   ],
   "source": [
    "np.where(Y['seq'][0][1] == 1)"
   ]
  },
  {
   "cell_type": "code",
   "execution_count": 269,
   "id": "603caf60-305e-494a-8be0-e6446f8db633",
   "metadata": {},
   "outputs": [
    {
     "data": {
      "text/plain": [
       "tensor([[-0.4016,  0.4643,  0.5004],\n",
       "        [ 0.3898,  4.1160, -0.6407],\n",
       "        [ 1.5807,  0.2429,  2.3975],\n",
       "        [ 1.3053, -2.5748, -2.7898],\n",
       "        [-2.6145, -0.3947,  0.7382],\n",
       "        [-1.8628, -1.3619, -0.1456],\n",
       "        [-2.1516, -0.4739, -2.0030],\n",
       "        [-0.8504,  0.4411, -2.4084],\n",
       "        [ 0.1945, -0.4145, -3.1878],\n",
       "        [-0.8973,  2.5606,  0.3547],\n",
       "        [-2.7515,  1.6219, -0.4506],\n",
       "        [-3.4285,  0.3150,  3.0471],\n",
       "        [-0.3167,  2.8010, -1.2279],\n",
       "        [ 3.5177,  1.7343,  0.5647],\n",
       "        [ 2.5863, -2.1515,  1.1407],\n",
       "        [ 1.0813, -0.1893, -1.9933],\n",
       "        [ 1.6887,  1.6050, -1.7523],\n",
       "        [ 2.8729,  0.4453,  3.0031],\n",
       "        [ 0.0333, -0.0622,  0.7316],\n",
       "        [ 2.4623, -0.1326, -1.4092],\n",
       "        [ 1.5218, -1.0659, -1.0285],\n",
       "        [-0.2300,  1.0365,  0.3738],\n",
       "        [ 0.7927,  2.0813,  0.7999],\n",
       "        [ 1.3476,  2.5889,  1.8108],\n",
       "        [-0.1664, -1.2719,  0.1784]], grad_fn=<AddmmBackward0>)"
      ]
     },
     "execution_count": 269,
     "metadata": {},
     "output_type": "execute_result"
    }
   ],
   "source": [
    "z_mu"
   ]
  },
  {
   "cell_type": "code",
   "execution_count": 262,
   "id": "1ce6068d-9571-4dd0-a193-459aa16c68ca",
   "metadata": {},
   "outputs": [
    {
     "data": {
      "text/plain": [
       "tensor([0.0537, 0.0444, 0.0422, 0.0441, 0.0416, 0.0516, 0.0497, 0.0439, 0.0442,\n",
       "        0.0420, 0.0445, 0.0479, 0.0509, 0.0486, 0.0432, 0.0488, 0.0535, 0.0463,\n",
       "        0.0516, 0.0562, 0.0511], grad_fn=<SelectBackward0>)"
      ]
     },
     "execution_count": 262,
     "metadata": {},
     "output_type": "execute_result"
    }
   ],
   "source": [
    "Xhat[0][3]"
   ]
  },
  {
   "cell_type": "code",
   "execution_count": 270,
   "id": "e0fc8fce-a684-4d93-9759-b7eaea96b737",
   "metadata": {},
   "outputs": [
    {
     "data": {
      "image/png": "[encoded data removed]",
      "text/plain": [
       "<Figure size 640x480 with 1 Axes>"
      ]
     },
     "metadata": {},
     "output_type": "display_data"
    }
   ],
   "source": [
    "\n",
    "for batch in datagenerator:\n",
    "    X, Y = batch\n",
    "    z_mu, z_log_var, z, Xhat = example_vae(X['seq'])\n",
    "    \n",
    "    plt.scatter(z[:,0].detach().numpy(), z[:,1].detach().numpy(), color='black', alpha=0.01)"
   ]
  },
  {
   "cell_type": "code",
   "execution_count": 113,
   "id": "1a5067cd-b8bc-4fb9-915f-2468903f5187",
   "metadata": {},
   "outputs": [
    {
     "data": {
      "text/plain": [
       "(tensor([14]),)"
      ]
     },
     "execution_count": 113,
     "metadata": {},
     "output_type": "execute_result"
    }
   ],
   "source": [
    "torch.where(Xhat[0][1] == max(Xhat[0][1]))"
   ]
  },
  {
   "cell_type": "code",
   "execution_count": 114,
   "id": "20d4cc55-abac-4176-8d57-47b458bcbd33",
   "metadata": {},
   "outputs": [
    {
     "data": {
      "text/plain": [
       "(tensor([2]),)"
      ]
     },
     "execution_count": 114,
     "metadata": {},
     "output_type": "execute_result"
    }
   ],
   "source": [
    "torch.where(Y['seq'][0][1]==1)"
   ]
  },
  {
   "cell_type": "code",
   "execution_count": 31,
   "id": "3f22a99e-5090-46b8-853f-18c1f0999ffa",
   "metadata": {},
   "outputs": [
    {
     "name": "stdout",
     "output_type": "stream",
     "text": [
      "tensor([[[0.0573, 0.0425, 0.0448,  ..., 0.0478, 0.0359, 0.0486],\n",
      "         [0.0433, 0.0507, 0.0479,  ..., 0.0561, 0.0435, 0.0452],\n",
      "         [0.0450, 0.0420, 0.0470,  ..., 0.0576, 0.0489, 0.0408],\n",
      "         ...,\n",
      "         [0.0577, 0.0461, 0.0372,  ..., 0.0444, 0.0513, 0.0453],\n",
      "         [0.0464, 0.0468, 0.0460,  ..., 0.0510, 0.0528, 0.0440],\n",
      "         [0.0619, 0.0459, 0.0466,  ..., 0.0470, 0.0496, 0.0506]],\n",
      "\n",
      "        [[0.0604, 0.0432, 0.0455,  ..., 0.0474, 0.0388, 0.0499],\n",
      "         [0.0420, 0.0506, 0.0449,  ..., 0.0544, 0.0467, 0.0519],\n",
      "         [0.0461, 0.0458, 0.0439,  ..., 0.0565, 0.0474, 0.0423],\n",
      "         ...,\n",
      "         [0.0553, 0.0468, 0.0415,  ..., 0.0475, 0.0463, 0.0486],\n",
      "         [0.0522, 0.0483, 0.0475,  ..., 0.0494, 0.0500, 0.0430],\n",
      "         [0.0627, 0.0444, 0.0438,  ..., 0.0421, 0.0498, 0.0486]],\n",
      "\n",
      "        [[0.0554, 0.0423, 0.0440,  ..., 0.0481, 0.0351, 0.0487],\n",
      "         [0.0432, 0.0507, 0.0485,  ..., 0.0566, 0.0427, 0.0433],\n",
      "         [0.0446, 0.0418, 0.0473,  ..., 0.0574, 0.0485, 0.0402],\n",
      "         ...,\n",
      "         [0.0583, 0.0467, 0.0362,  ..., 0.0439, 0.0528, 0.0456],\n",
      "         [0.0454, 0.0464, 0.0457,  ..., 0.0510, 0.0531, 0.0440],\n",
      "         [0.0623, 0.0454, 0.0464,  ..., 0.0483, 0.0496, 0.0507]],\n",
      "\n",
      "        ...,\n",
      "\n",
      "        [[0.0397, 0.0416, 0.0338,  ..., 0.0504, 0.0318, 0.0620],\n",
      "         [0.0442, 0.0446, 0.0568,  ..., 0.0713, 0.0338, 0.0418],\n",
      "         [0.0469, 0.0399, 0.0444,  ..., 0.0573, 0.0443, 0.0418],\n",
      "         ...,\n",
      "         [0.0547, 0.0636, 0.0299,  ..., 0.0554, 0.0532, 0.0468],\n",
      "         [0.0551, 0.0443, 0.0484,  ..., 0.0477, 0.0529, 0.0415],\n",
      "         [0.0707, 0.0389, 0.0386,  ..., 0.0535, 0.0491, 0.0480]],\n",
      "\n",
      "        [[0.0596, 0.0426, 0.0458,  ..., 0.0471, 0.0367, 0.0482],\n",
      "         [0.0431, 0.0511, 0.0467,  ..., 0.0558, 0.0444, 0.0473],\n",
      "         [0.0454, 0.0427, 0.0463,  ..., 0.0574, 0.0490, 0.0410],\n",
      "         ...,\n",
      "         [0.0570, 0.0458, 0.0384,  ..., 0.0454, 0.0492, 0.0454],\n",
      "         [0.0478, 0.0478, 0.0461,  ..., 0.0505, 0.0525, 0.0434],\n",
      "         [0.0619, 0.0459, 0.0469,  ..., 0.0455, 0.0498, 0.0505]],\n",
      "\n",
      "        [[0.0516, 0.0421, 0.0427,  ..., 0.0493, 0.0338, 0.0488],\n",
      "         [0.0430, 0.0496, 0.0505,  ..., 0.0576, 0.0415, 0.0402],\n",
      "         [0.0434, 0.0418, 0.0486,  ..., 0.0572, 0.0487, 0.0397],\n",
      "         ...,\n",
      "         [0.0596, 0.0473, 0.0342,  ..., 0.0428, 0.0554, 0.0449],\n",
      "         [0.0442, 0.0457, 0.0452,  ..., 0.0514, 0.0528, 0.0446],\n",
      "         [0.0634, 0.0446, 0.0460,  ..., 0.0499, 0.0494, 0.0508]]],\n",
      "       grad_fn=<SoftmaxBackward0>)\n"
     ]
    },
    {
     "data": {
      "text/plain": [
       "tensor(-0.1920, grad_fn=<MeanBackward0>)"
      ]
     },
     "execution_count": 31,
     "metadata": {},
     "output_type": "execute_result"
    }
   ],
   "source": [
    "example_vae.recon_loss(Y['seq'], Xhat)"
   ]
  },
  {
   "cell_type": "code",
   "execution_count": null,
   "id": "1d30059a-f775-4e62-a449-4b52b336fcf6",
   "metadata": {},
   "outputs": [],
   "source": []
  },
  {
   "cell_type": "code",
   "execution_count": 86,
   "id": "dfaeef95-e4b7-407c-8b0b-7e18d0ce8f14",
   "metadata": {},
   "outputs": [
    {
     "data": {
      "text/plain": [
       "tensor([0.0559, 0.0564, 0.0475, 0.0458, 0.0423, 0.0439, 0.0462, 0.0527, 0.0450,\n",
       "        0.0407, 0.0398, 0.0435, 0.0565, 0.0509, 0.0396, 0.0517, 0.0602, 0.0472,\n",
       "        0.0412, 0.0491, 0.0440], grad_fn=<SelectBackward0>)"
      ]
     },
     "execution_count": 86,
     "metadata": {},
     "output_type": "execute_result"
    }
   ],
   "source": [
    "Xhat[0][2]"
   ]
  },
  {
   "cell_type": "code",
   "execution_count": 69,
   "id": "10e3268e-fde3-43c3-962f-0e023aac5bb9",
   "metadata": {},
   "outputs": [
    {
     "data": {
      "text/plain": [
       "torch.Size([25, 1239])"
      ]
     },
     "execution_count": 69,
     "metadata": {},
     "output_type": "execute_result"
    }
   ],
   "source": [
    "X['seq'].view(X['seq'].shape[0], 59*21).shape"
   ]
  },
  {
   "cell_type": "code",
   "execution_count": 52,
   "id": "a130c1b2-9331-4fc3-a747-2f588b3c0e35",
   "metadata": {},
   "outputs": [
    {
     "data": {
      "text/plain": [
       "0       VFLGVYKALYDYEPQTTEELAIREDELLYLLEKSDEWWTVKKDEPV...\n",
       "1       PVINSVRALYDYDQNPDEELTFHENEEFDVYDDQDDWLLVQKTGAC...\n",
       "2       KARKEGKVLYDFIAESQDELSVKQGQTVYILNDKKDWWMCELSGQK...\n",
       "3       TGSNKNKVLFAYSKQDADEVSISLRDLVALEAADGGWTKIKNTGET...\n",
       "4       MPTRTMQAQYDYEAQGDDELSLTPNDVVNVIRGDDGWTYGE-NGEK...\n",
       "                              ...                        \n",
       "7860    AALFKVKALYDFEAKEDDDLGFPGGQVIDVTEEVDNWLEGTYSSKS...\n",
       "7861    PKDPQFKALYDFVGQTGGELSLAKNQVIYITRKENGWWLGKQGSAS...\n",
       "7862    RQSQVIKAVYDYNAPTNMCLSFSAGDFLHVVSREDEWYEACNRGER...\n",
       "7863    PAGIYGVVSYDFHAERPDELDAKEGEAIIVIAQSNEWFVAKPLGGP...\n",
       "7864    LDPDKLYALYAFNGHSSHCQLGQDEPCILLNDQDAYWWLVKRITDG...\n",
       "Name: Sequences, Length: 7865, dtype: object"
      ]
     },
     "execution_count": 52,
     "metadata": {},
     "output_type": "execute_result"
    }
   ],
   "source": [
    "sh3_dataset[sh3_dataset['Type'] == 'Naturals']['Sequences']"
   ]
  },
  {
   "cell_type": "code",
   "execution_count": 53,
   "id": "f546bfbd-40bc-47b2-9c5c-dc9e7efe4dc7",
   "metadata": {},
   "outputs": [],
   "source": [
    "seqs = np.asarray([ list(seq) for seq in sh3_dataset[sh3_dataset['Type'] == 'Naturals']['Sequences']])"
   ]
  },
  {
   "cell_type": "code",
   "execution_count": 61,
   "id": "e2b1d2a6-333d-4faf-95bb-05c02c4e4be6",
   "metadata": {},
   "outputs": [
    {
     "data": {
      "text/plain": [
       "59"
      ]
     },
     "execution_count": 61,
     "metadata": {},
     "output_type": "execute_result"
    }
   ],
   "source": [
    "len(seqs[0])"
   ]
  },
  {
   "cell_type": "code",
   "execution_count": 54,
   "id": "d78a4676-674b-46c7-ae47-19659da85ba9",
   "metadata": {},
   "outputs": [],
   "source": [
    "dataset = ProteinDataset(seqs)"
   ]
  },
  {
   "cell_type": "code",
   "execution_count": 55,
   "id": "97318e28-2b72-4b35-9713-d04c2067fef2",
   "metadata": {},
   "outputs": [
    {
     "data": {
      "text/plain": [
       "7865"
      ]
     },
     "execution_count": 55,
     "metadata": {},
     "output_type": "execute_result"
    }
   ],
   "source": [
    "len(dataset)"
   ]
  },
  {
   "cell_type": "code",
   "execution_count": 56,
   "id": "a48b21db-86ee-4daa-963c-36d6b9562491",
   "metadata": {},
   "outputs": [],
   "source": [
    "datagenerator = torch.utils.data.DataLoader(dataset, batch_size=32)"
   ]
  },
  {
   "cell_type": "code",
   "execution_count": 64,
   "id": "d59b0b5d-d2aa-4414-8b50-d779e72e4e0c",
   "metadata": {
    "collapsed": true,
    "jupyter": {
     "outputs_hidden": true
    }
   },
   "outputs": [
    {
     "name": "stdout",
     "output_type": "stream",
     "text": [
      "32\n",
      "32\n",
      "32\n",
      "32\n",
      "32\n",
      "32\n",
      "32\n",
      "32\n",
      "32\n",
      "32\n",
      "32\n",
      "32\n",
      "32\n",
      "32\n",
      "32\n",
      "32\n",
      "32\n",
      "32\n",
      "32\n",
      "32\n",
      "32\n",
      "32\n",
      "32\n",
      "32\n",
      "32\n",
      "32\n",
      "32\n",
      "32\n",
      "32\n",
      "32\n",
      "32\n",
      "32\n",
      "32\n",
      "32\n",
      "32\n",
      "32\n",
      "32\n",
      "32\n",
      "32\n",
      "32\n",
      "32\n",
      "32\n",
      "32\n",
      "32\n",
      "32\n",
      "32\n",
      "32\n",
      "32\n",
      "32\n",
      "32\n",
      "32\n",
      "32\n",
      "32\n",
      "32\n",
      "32\n",
      "32\n",
      "32\n",
      "32\n",
      "32\n",
      "32\n",
      "32\n",
      "32\n",
      "32\n",
      "32\n",
      "32\n",
      "32\n",
      "32\n",
      "32\n",
      "32\n",
      "32\n",
      "32\n",
      "32\n",
      "32\n",
      "32\n",
      "32\n",
      "32\n",
      "32\n",
      "32\n",
      "32\n",
      "32\n",
      "32\n",
      "32\n",
      "32\n",
      "32\n",
      "32\n",
      "32\n",
      "32\n",
      "32\n",
      "32\n",
      "32\n",
      "32\n",
      "32\n",
      "32\n",
      "32\n",
      "32\n",
      "32\n",
      "32\n",
      "32\n",
      "32\n",
      "32\n",
      "32\n",
      "32\n",
      "32\n",
      "32\n",
      "32\n",
      "32\n",
      "32\n",
      "32\n",
      "32\n",
      "32\n",
      "32\n",
      "32\n",
      "32\n",
      "32\n",
      "32\n",
      "32\n",
      "32\n",
      "32\n",
      "32\n",
      "32\n",
      "32\n",
      "32\n",
      "32\n",
      "32\n",
      "32\n",
      "32\n",
      "32\n",
      "32\n",
      "32\n",
      "32\n",
      "32\n",
      "32\n",
      "32\n",
      "32\n",
      "32\n",
      "32\n",
      "32\n",
      "32\n",
      "32\n",
      "32\n",
      "32\n",
      "32\n",
      "32\n",
      "32\n",
      "32\n",
      "32\n",
      "32\n",
      "32\n",
      "32\n",
      "32\n",
      "32\n",
      "32\n",
      "32\n",
      "32\n",
      "32\n",
      "32\n",
      "32\n",
      "32\n",
      "32\n",
      "32\n",
      "32\n",
      "32\n",
      "32\n",
      "32\n",
      "32\n",
      "32\n",
      "32\n",
      "32\n",
      "32\n",
      "32\n",
      "32\n",
      "32\n",
      "32\n",
      "32\n",
      "32\n",
      "32\n",
      "32\n",
      "32\n",
      "32\n",
      "32\n",
      "32\n",
      "32\n",
      "32\n",
      "32\n",
      "32\n",
      "32\n",
      "32\n",
      "32\n",
      "32\n",
      "32\n",
      "32\n",
      "32\n",
      "32\n",
      "32\n",
      "32\n",
      "32\n",
      "32\n",
      "32\n",
      "32\n",
      "32\n",
      "32\n",
      "32\n",
      "32\n",
      "32\n",
      "32\n",
      "32\n",
      "32\n",
      "32\n",
      "32\n",
      "32\n",
      "32\n",
      "32\n",
      "32\n",
      "32\n",
      "32\n",
      "32\n",
      "32\n",
      "32\n",
      "32\n",
      "32\n",
      "32\n",
      "32\n",
      "32\n",
      "32\n",
      "32\n",
      "32\n",
      "32\n",
      "32\n",
      "32\n",
      "32\n",
      "32\n",
      "32\n",
      "32\n",
      "32\n",
      "32\n",
      "32\n",
      "32\n",
      "32\n",
      "32\n",
      "32\n",
      "32\n",
      "32\n",
      "32\n",
      "32\n",
      "32\n",
      "25\n"
     ]
    }
   ],
   "source": [
    "for batch in datagenerator:\n",
    "    X, Y = batch\n",
    "    print(X['seq'].shape[0])"
   ]
  },
  {
   "cell_type": "code",
   "execution_count": 63,
   "id": "94229c67-92c4-4ac7-834d-2313ba468c91",
   "metadata": {},
   "outputs": [
    {
     "data": {
      "text/plain": [
       "torch.Size([32, 59, 21])"
      ]
     },
     "execution_count": 63,
     "metadata": {},
     "output_type": "execute_result"
    }
   ],
   "source": [
    "X['seq'].shape"
   ]
  },
  {
   "cell_type": "markdown",
   "id": "9655be90-2073-4e19-95ac-e7728295879a",
   "metadata": {},
   "source": [
    "\"ABAC\"\n",
    "\n",
    "[\n",
    "[1 0 0]\n",
    "[0 1 0]\n",
    "[1 0 0]\n",
    "[0 0 1]\n",
    "]\n"
   ]
  },
  {
   "cell_type": "code",
   "execution_count": 5,
   "id": "32dec271-c6e8-47e6-8a79-1cf153224064",
   "metadata": {},
   "outputs": [],
   "source": [
    "AMINO_ACIDS = \"ARNDCQEGHILKMFPSTWYV-\"\n",
    "IDX_TO_AA = list(AMINO_ACIDS)"
   ]
  },
  {
   "cell_type": "code",
   "execution_count": 6,
   "id": "3a50ee69-4a21-4f21-a4d8-efdabe447ba7",
   "metadata": {},
   "outputs": [
    {
     "data": {
      "text/plain": [
       "'ARNDCQEGHILKMFPSTWYV-'"
      ]
     },
     "execution_count": 6,
     "metadata": {},
     "output_type": "execute_result"
    }
   ],
   "source": [
    "AMINO_ACIDS"
   ]
  },
  {
   "cell_type": "code",
   "execution_count": 9,
   "id": "6bfd47dc-607a-4509-9cbf-5592037e80d2",
   "metadata": {},
   "outputs": [
    {
     "data": {
      "text/plain": [
       "'E'"
      ]
     },
     "execution_count": 9,
     "metadata": {},
     "output_type": "execute_result"
    }
   ],
   "source": [
    "IDX_TO_AA[6]"
   ]
  },
  {
   "cell_type": "code",
   "execution_count": 13,
   "id": "f7293054-e60d-429b-a782-f60fb7ca23af",
   "metadata": {},
   "outputs": [],
   "source": [
    "AA_TO_IDX = {aa : i for i, aa in enumerate(IDX_TO_AA)}"
   ]
  },
  {
   "cell_type": "code",
   "execution_count": 15,
   "id": "2e576bd7-59b8-4b28-bd51-dcca5a3fa9a9",
   "metadata": {},
   "outputs": [
    {
     "data": {
      "text/plain": [
       "0"
      ]
     },
     "execution_count": 15,
     "metadata": {},
     "output_type": "execute_result"
    }
   ],
   "source": [
    "AA_TO_IDX['A']"
   ]
  },
  {
   "cell_type": "code",
   "execution_count": 16,
   "id": "aaa0706b-08e9-4106-80d2-939debe6e7e2",
   "metadata": {},
   "outputs": [],
   "source": [
    "seq = sh3_dataset['Sequences'][0]"
   ]
  },
  {
   "cell_type": "code",
   "execution_count": 17,
   "id": "9a7da6c9-718e-4ae2-93df-b45ffff3db0d",
   "metadata": {},
   "outputs": [
    {
     "data": {
      "text/plain": [
       "'VFLGVYKALYDYEPQTTEELAIREDELLYLLEKSDEWWTVKKDEPVGLVPSNYVEQAPV'"
      ]
     },
     "execution_count": 17,
     "metadata": {},
     "output_type": "execute_result"
    }
   ],
   "source": [
    "seq"
   ]
  },
  {
   "cell_type": "code",
   "execution_count": 21,
   "id": "e7df581d-0879-404f-9738-33f8b614aec6",
   "metadata": {},
   "outputs": [],
   "source": [
    "def one_hot_encode(\n",
    "    seq\n",
    "):\n",
    "    \"\"\"\n",
    "    generate one hot encoded sequences\n",
    "    \"\"\"\n",
    "    seq_vector = torch.zeros((len(seq), len(IDX_TO_AA)), dtype=torch.float32)\n",
    "    \n",
    "    for index, char in enumerate(seq):\n",
    "        seq_vector[index, AA_TO_IDX[char]] = 1.\n",
    "\n",
    "    return seq_vector"
   ]
  },
  {
   "cell_type": "code",
   "execution_count": 23,
   "id": "829d990b-7796-4b77-b0a8-6deb016e9b95",
   "metadata": {},
   "outputs": [],
   "source": [
    "one_hot_encoded_seq = one_hot_encode(seq)"
   ]
  },
  {
   "cell_type": "code",
   "execution_count": 28,
   "id": "013351b0-4c52-498e-a734-3e8d39e04db7",
   "metadata": {},
   "outputs": [
    {
     "data": {
      "text/plain": [
       "tensor([[0., 0., 0.,  ..., 0., 1., 0.],\n",
       "        [0., 0., 0.,  ..., 0., 0., 0.],\n",
       "        [0., 0., 0.,  ..., 0., 0., 0.],\n",
       "        ...,\n",
       "        [1., 0., 0.,  ..., 0., 0., 0.],\n",
       "        [0., 0., 0.,  ..., 0., 0., 0.],\n",
       "        [0., 0., 0.,  ..., 0., 1., 0.]])"
      ]
     },
     "execution_count": 28,
     "metadata": {},
     "output_type": "execute_result"
    }
   ],
   "source": [
    "one_hot_encoded_seq"
   ]
  },
  {
   "cell_type": "code",
   "execution_count": 26,
   "id": "24eaef8e-536d-4dea-9228-f8cd0a7db3b6",
   "metadata": {},
   "outputs": [
    {
     "data": {
      "text/plain": [
       "'V'"
      ]
     },
     "execution_count": 26,
     "metadata": {},
     "output_type": "execute_result"
    }
   ],
   "source": [
    "IDX_TO_AA[19]"
   ]
  },
  {
   "cell_type": "code",
   "execution_count": 27,
   "id": "761556d1-6017-401f-afe3-20bbef755763",
   "metadata": {},
   "outputs": [
    {
     "data": {
      "text/plain": [
       "'V'"
      ]
     },
     "execution_count": 27,
     "metadata": {},
     "output_type": "execute_result"
    }
   ],
   "source": [
    "seq[0]"
   ]
  },
  {
   "cell_type": "code",
   "execution_count": null,
   "id": "fa414c3a-098a-4158-a31c-ef98a06af9b0",
   "metadata": {},
   "outputs": [],
   "source": []
  }
 ],
 "metadata": {
  "kernelspec": {
   "display_name": "Python 3 (ipykernel)",
   "language": "python",
   "name": "python3"
  },
  "language_info": {
   "codemirror_mode": {
    "name": "ipython",
    "version": 3
   },
   "file_extension": ".py",
   "mimetype": "text/x-python",
   "name": "python",
   "nbconvert_exporter": "python",
   "pygments_lexer": "ipython3",
   "version": "3.11.9"
  }
 },
 "nbformat": 4,
 "nbformat_minor": 5
}
